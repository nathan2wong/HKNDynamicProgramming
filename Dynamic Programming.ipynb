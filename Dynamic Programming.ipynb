{
 "cells": [
  {
   "cell_type": "markdown",
   "metadata": {},
   "source": [
    "# Dynamic Programming\n",
    "\n",
    "We'll be exploring a computer science concept called dynamic programming! \n",
    "\n",
    "Dynamic Programming is a method we can use for solving a complex problem by breaking it down into simpler smaller problems, solving each of those subproblems, and storing their solutions so we can reference them later. For example, we could use dynamic programming to find the longest substrings in common between two words, assuming we can skip over some letters. To get started on understanding dynamic programming, let's explore the basics of a fundamental part: recursion!"
   ]
  },
  {
   "cell_type": "markdown",
   "metadata": {},
   "source": [
    "### Recursion Overview\n",
    "\n",
    "Recursion is a tool used to solve a problem where the solution depends on solutions to smaller instances of the same problem, as described above. In essence, a recursive function is any function that we define in terms of itself. We can understand recursion from the common example of summing the first n whole numbers, shown below."
   ]
  },
  {
   "cell_type": "code",
   "execution_count": 4,
   "metadata": {},
   "outputs": [],
   "source": [
    "def sum_recursive(n):\n",
    "    if n == 0:\n",
    "        return n\n",
    "    else:\n",
    "        return n + sum_recursive(n-1)"
   ]
  },
  {
   "cell_type": "markdown",
   "metadata": {},
   "source": [
    "Even though we haven’t finished defining sum_recursive when we make our recursive call in the final line, we are still able to call it since the function body is not evaluated until the function is called. When n is 0, we just return n. This is known as the base case, and it allows the recursive function to halt at some point. Given that this base case works, we can compute sum_recursive(1) in terms of sum_recursive(0), sum_recursive(2) in terms of sum_recursive(1), and so on."
   ]
  },
  {
   "cell_type": "markdown",
   "metadata": {},
   "source": [
    "Now that we've understood the fundamental concept of recursion and how we can use it, let's dive into how we can use this to support dynamic programming with some fundamental dynamic programming examples!"
   ]
  },
  {
   "cell_type": "markdown",
   "metadata": {},
   "source": [
    "### Coin Change\n",
    "\n",
    "For this problem, imagine that you are given coins of different denominations and a total amount of money. You want to find the *fewest* number of coins that you need to make up that total amount of money. If the total amount of money cannot be made up by any combination of the coins, return -1. Fill in the following function to meet this goal. "
   ]
  },
  {
   "cell_type": "code",
   "execution_count": 23,
   "metadata": {},
   "outputs": [],
   "source": [
    "def coinChange(coins, amount):\n",
    "    \n",
    "    \"\"\" Given a list of coin denominations and a total amount of\n",
    "    money you'd like to reach, return the fewest number of coins \n",
    "    that you need to make up that total amount of money.\n",
    "    \n",
    "    >>> coinChange([1, 2, 5], 11)\n",
    "    3 (11 = 5 + 5 + 1)\n",
    "    >>> coinChange([2], 3)\n",
    "    -1\n",
    "    \"\"\"\n",
    "    # your code here"
   ]
  },
  {
   "cell_type": "markdown",
   "metadata": {},
   "source": [
    "Below is a sample way you could have implemented Coin Change using dynamic programming."
   ]
  },
  {
   "cell_type": "code",
   "execution_count": 25,
   "metadata": {},
   "outputs": [],
   "source": [
    "def coinChange2(coins, amount):\n",
    "    dp = [amount + 1] * (amount+1)\n",
    "    dp[0] = 0\n",
    "    for i in range(1, amount + 1):\n",
    "        for j in range(len(coins)):\n",
    "            dp[i] = min(dp[i], dp[i - coins[j]] + 1)\n",
    "    if (dp[amount] > amount):\n",
    "        return -1\n",
    "    return dp[amount]"
   ]
  }
 ],
 "metadata": {
  "kernelspec": {
   "display_name": "Python 3",
   "language": "python",
   "name": "python3"
  },
  "language_info": {
   "codemirror_mode": {
    "name": "ipython",
    "version": 3
   },
   "file_extension": ".py",
   "mimetype": "text/x-python",
   "name": "python",
   "nbconvert_exporter": "python",
   "pygments_lexer": "ipython3",
   "version": "3.7.3"
  }
 },
 "nbformat": 4,
 "nbformat_minor": 2
}
